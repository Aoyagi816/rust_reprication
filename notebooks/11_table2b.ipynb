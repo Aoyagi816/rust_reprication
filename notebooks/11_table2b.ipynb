{
 "cells": [
  {
   "cell_type": "code",
   "execution_count": null,
   "metadata": {},
   "outputs": [],
   "source": [
    "import numpy as np\n",
    "import pandas as pd"
   ]
  },
  {
   "cell_type": "code",
   "execution_count": null,
   "metadata": {},
   "outputs": [],
   "source": [
    "bus_groups_replaceinfo = pd.read_csv(\"../data/bus_groups_replaceinfo.csv\")\n",
    "\n",
    "bus_groups_replaceinfo = bus_groups_replaceinfo[\n",
    "    [\"bus_name\", \"group\", \"purchase_date\", \"1st_rep_date\"]\n",
    "]\n",
    "bus_groups_replaceinfo[\"purchase_date\"] = pd.to_datetime(\n",
    "    bus_groups_replaceinfo[\"purchase_date\"], format=\"%Y-%m\"\n",
    ")\n",
    "\n",
    "bus_groups_replaceinfo"
   ]
  },
  {
   "cell_type": "code",
   "execution_count": null,
   "metadata": {},
   "outputs": [],
   "source": [
    "def calculate_months_diff(date1: pd.Series, date2: pd.Series) -> pd.Series:\n",
    "    result = np.where(\n",
    "        date1.isna() | date2.isna(),\n",
    "        np.nan,\n",
    "        (date2.dt.year - date1.dt.year) * 12 + (date2.dt.month - date1.dt.month) + 1,\n",
    "    )\n",
    "    return pd.Series(result)"
   ]
  },
  {
   "cell_type": "code",
   "execution_count": null,
   "metadata": {},
   "outputs": [],
   "source": [
    "bus_groups_no_replace = bus_groups_replaceinfo[\n",
    "    bus_groups_replaceinfo[\"1st_rep_date\"].isna()\n",
    "].copy()\n",
    "bus_groups_no_replace.reset_index(drop=True, inplace=True)\n",
    "\n",
    "bus_groups_no_replace[\"end_date\"] = pd.to_datetime(\"1985-05\", format=\"%Y-%m\")\n",
    "bus_groups_no_replace[\"flapsed_time\"] = calculate_months_diff(\n",
    "    bus_groups_no_replace[\"purchase_date\"], bus_groups_no_replace[\"end_date\"]\n",
    ")\n",
    "bus_groups_no_replace.drop(\n",
    "    columns=[\"1st_rep_date\", \"purchase_date\", \"end_date\"], inplace=True\n",
    ")\n",
    "bus_groups_no_replace"
   ]
  },
  {
   "cell_type": "code",
   "execution_count": null,
   "metadata": {},
   "outputs": [],
   "source": [
    "bus_groups_no_replace.value_counts(\"group\")"
   ]
  },
  {
   "cell_type": "code",
   "execution_count": null,
   "metadata": {},
   "outputs": [],
   "source": [
    "bus_groups_time_series = pd.read_csv(\"../data/bus_groups_timeseries.csv\", index_col=0)\n",
    "bus_groups_time_series"
   ]
  },
  {
   "cell_type": "code",
   "execution_count": null,
   "metadata": {},
   "outputs": [],
   "source": [
    "no_replace_bus_names = bus_groups_no_replace[\"bus_name\"].astype(str).tolist()\n",
    "\n",
    "miles_1985 = bus_groups_time_series[no_replace_bus_names].loc[\"1985-05\"]\n",
    "miles_1985 = miles_1985.reset_index(name=\"miles_1985\").rename(\n",
    "    columns={\"index\": \"bus_name\"}\n",
    ")\n",
    "miles_1985[\"bus_name\"] = miles_1985[\"bus_name\"].astype(int)\n",
    "\n",
    "bus_groups_no_replace = pd.merge(bus_groups_no_replace, miles_1985, on=\"bus_name\")\n",
    "bus_groups_no_replace"
   ]
  },
  {
   "cell_type": "code",
   "execution_count": null,
   "metadata": {},
   "outputs": [],
   "source": [
    "bus_groups_no_replace[[\"group\", \"miles_1985\", \"flapsed_time\"]].groupby(\"group\").agg(\n",
    "    [\"max\", \"min\", \"mean\", \"std\"]\n",
    ").round(2)"
   ]
  },
  {
   "cell_type": "code",
   "execution_count": null,
   "metadata": {},
   "outputs": [],
   "source": []
  }
 ],
 "metadata": {
  "kernelspec": {
   "display_name": "rust-reprication-ETVudui6-py3.11",
   "language": "python",
   "name": "python3"
  },
  "language_info": {
   "codemirror_mode": {
    "name": "ipython",
    "version": 3
   },
   "file_extension": ".py",
   "mimetype": "text/x-python",
   "name": "python",
   "nbconvert_exporter": "python",
   "pygments_lexer": "ipython3",
   "version": "3.11.3"
  }
 },
 "nbformat": 4,
 "nbformat_minor": 2
}
