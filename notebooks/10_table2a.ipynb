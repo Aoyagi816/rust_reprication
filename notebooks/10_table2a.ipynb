{
 "cells": [
  {
   "cell_type": "code",
   "execution_count": null,
   "metadata": {},
   "outputs": [],
   "source": [
    "import numpy as np\n",
    "import pandas as pd"
   ]
  },
  {
   "cell_type": "code",
   "execution_count": null,
   "metadata": {},
   "outputs": [],
   "source": [
    "bus_groups_replaceinfo = pd.read_csv(\"../data/bus_groups_replaceinfo.csv\")\n",
    "\n",
    "bus_groups_replaceinfo[\"purchase_date\"] = pd.to_datetime(\n",
    "    bus_groups_replaceinfo[\"purchase_date\"], format=\"%Y-%m\"\n",
    ")\n",
    "bus_groups_replaceinfo[\"1st_rep_date\"] = pd.to_datetime(\n",
    "    bus_groups_replaceinfo[\"1st_rep_date\"], format=\"%Y-%m\"\n",
    ")\n",
    "bus_groups_replaceinfo[\"2and_rep_date\"] = pd.to_datetime(\n",
    "    bus_groups_replaceinfo[\"2and_rep_date\"], format=\"%Y-%m\"\n",
    ")\n",
    "bus_groups_replaceinfo[\"data_begins_date\"] = pd.to_datetime(\n",
    "    bus_groups_replaceinfo[\"data_begins_date\"], format=\"%Y-%m\"\n",
    ")\n",
    "\n",
    "bus_groups_replaceinfo"
   ]
  },
  {
   "cell_type": "code",
   "execution_count": null,
   "metadata": {},
   "outputs": [],
   "source": [
    "bus_groups_replaceinfo_summary = (\n",
    "    bus_groups_replaceinfo[[\"group\", \"odometer_1st\"]]\n",
    "    .groupby(\"group\")\n",
    "    .agg([\"max\", \"min\", \"mean\", \"std\", \"count\"])\n",
    "    .round(0)\n",
    ")\n",
    "bus_groups_replaceinfo_summary"
   ]
  },
  {
   "cell_type": "code",
   "execution_count": null,
   "metadata": {},
   "outputs": [],
   "source": [
    "def calculate_months_diff(date1: pd.Series, date2: pd.Series) -> pd.Series:\n",
    "    result = np.where(\n",
    "        date1.isna() | date2.isna(),\n",
    "        np.nan,\n",
    "        (date2.dt.year - date1.dt.year) * 12 + (date2.dt.month - date1.dt.month) + 1,\n",
    "    )\n",
    "    return pd.Series(result)"
   ]
  },
  {
   "cell_type": "code",
   "execution_count": null,
   "metadata": {},
   "outputs": [],
   "source": [
    "bus_groups_replaceinfo[\"1st_rep_period\"] = calculate_months_diff(\n",
    "    bus_groups_replaceinfo[\"purchase_date\"], bus_groups_replaceinfo[\"1st_rep_date\"]\n",
    ")\n",
    "bus_groups_replaceinfo[\"2and_rep_period\"] = calculate_months_diff(\n",
    "    bus_groups_replaceinfo[\"1st_rep_date\"], bus_groups_replaceinfo[\"2and_rep_date\"]\n",
    ")\n",
    "\n",
    "bus_groups_replace_period = (\n",
    "    pd.concat(\n",
    "        [\n",
    "            bus_groups_replaceinfo[[\"group\", \"1st_rep_period\"]].rename(\n",
    "                columns={\"1st_rep_period\": \"period\"}\n",
    "            ),\n",
    "            bus_groups_replaceinfo[[\"group\", \"2and_rep_period\"]].rename(\n",
    "                columns={\"2and_rep_period\": \"period\"}\n",
    "            ),\n",
    "        ],\n",
    "        axis=0,\n",
    "    )\n",
    "    .dropna()\n",
    "    .reset_index(drop=True)\n",
    ")\n",
    "\n",
    "\n",
    "bus_groups_replace_period_summary = (\n",
    "    bus_groups_replace_period.groupby(\"group\")\n",
    "    .agg([\"max\", \"min\", \"mean\", \"std\", \"count\"])\n",
    "    .round(1)\n",
    ")\n",
    "bus_groups_replace_period_summary"
   ]
  },
  {
   "cell_type": "code",
   "execution_count": null,
   "metadata": {},
   "outputs": [],
   "source": [
    "pd.merge(\n",
    "    bus_groups_replaceinfo_summary,\n",
    "    bus_groups_replace_period_summary,\n",
    "    left_index=True,\n",
    "    right_index=True,\n",
    ")"
   ]
  }
 ],
 "metadata": {
  "kernelspec": {
   "display_name": "rust-reprication-ETVudui6-py3.11",
   "language": "python",
   "name": "python3"
  },
  "language_info": {
   "codemirror_mode": {
    "name": "ipython",
    "version": 3
   },
   "file_extension": ".py",
   "mimetype": "text/x-python",
   "name": "python",
   "nbconvert_exporter": "python",
   "pygments_lexer": "ipython3",
   "version": "3.11.3"
  }
 },
 "nbformat": 4,
 "nbformat_minor": 2
}
