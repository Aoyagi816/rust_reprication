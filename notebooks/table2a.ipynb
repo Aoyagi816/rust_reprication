{
 "cells": [
  {
   "cell_type": "code",
   "execution_count": null,
   "metadata": {},
   "outputs": [],
   "source": [
    "import numpy as np\n",
    "import pandas as pd"
   ]
  },
  {
   "cell_type": "code",
   "execution_count": null,
   "metadata": {},
   "outputs": [],
   "source": [
    "# bus_groupを8つ読み込む\n",
    "bus_groups = {}\n",
    "for i in range(8):\n",
    "    bus_groups[f\"bus_group{i+1}\"] = pd.read_excel(\n",
    "        \"../data/rust_data_clean.xlsx\", sheet_name=i\n",
    "    )\n",
    "\n",
    "bus_groups[\"bus_group1\"]"
   ]
  },
  {
   "cell_type": "code",
   "execution_count": null,
   "metadata": {},
   "outputs": [],
   "source": [
    "def create_period_column(df, year_col, month_col, new_col) -> None:\n",
    "    \"\"\"指定された年と月の列から新しいPeriod列を作成する。\n",
    "\n",
    "    Args:\n",
    "        df (DataFrame): 処理するデータフレーム。\n",
    "        year_col (str): 年のデータを含む列の名前。\n",
    "        month_col (str): 月のデータを含む列の名前。\n",
    "        new_col (str): 新しく作成するPeriod列の名前。\n",
    "    \"\"\"\n",
    "    condition = df[year_col].notna() & df[month_col].notna()\n",
    "    df.loc[condition, new_col] = pd.to_datetime(\n",
    "        df.loc[condition, year_col].astype(int).astype(str)\n",
    "        + \"-\"\n",
    "        + df.loc[condition, month_col].astype(int).astype(str),\n",
    "        format=\"%Y-%m\",\n",
    "    ).dt.to_period(\"M\")\n",
    "    df.drop(columns=[year_col, month_col], inplace=True)"
   ]
  },
  {
   "cell_type": "code",
   "execution_count": null,
   "metadata": {},
   "outputs": [],
   "source": [
    "bus_groups_replaceinfo = pd.DataFrame()\n",
    "for i in range(8):\n",
    "    bus_replaceinfo = bus_groups[f\"bus_group{i+1}\"][0:10].T\n",
    "    bus_replaceinfo[\"group\"] = str(i + 1)\n",
    "    bus_groups_replaceinfo = pd.concat(\n",
    "        [bus_groups_replaceinfo, bus_replaceinfo], axis=0\n",
    "    )\n",
    "\n",
    "bus_groups_replaceinfo = bus_groups_replaceinfo.replace(0, np.nan)\n",
    "bus_groups_replaceinfo.reset_index(inplace=True)\n",
    "bus_groups_replaceinfo.rename(\n",
    "    columns={\n",
    "        \"index\": \"bus_name\",\n",
    "        0: \"month_purchased\",\n",
    "        1: \"year_purchased\",\n",
    "        2: \"month_1st_rep\",\n",
    "        3: \"year_1st_rep\",\n",
    "        4: \"odometer_1st\",\n",
    "        5: \"month_2and_rep\",\n",
    "        6: \"year_2and_rep\",\n",
    "        7: \"odometer_2and\",\n",
    "        8: \"month_data_begins\",\n",
    "        9: \"year_data_begins\",\n",
    "    },\n",
    "    inplace=True,\n",
    ")\n",
    "\n",
    "cols = [\"year_purchased\", \"year_1st_rep\", \"year_2and_rep\", \"year_data_begins\"]\n",
    "for col in cols:\n",
    "    bus_groups_replaceinfo[col] = bus_groups_replaceinfo[col].apply(\n",
    "        lambda x: x if x == np.nan else 1900 + x\n",
    "    )\n",
    "\n",
    "create_period_column(\n",
    "    bus_groups_replaceinfo, \"year_purchased\", \"month_purchased\", \"purchase_date\"\n",
    ")\n",
    "create_period_column(\n",
    "    bus_groups_replaceinfo, \"year_1st_rep\", \"month_1st_rep\", \"1st_rep_date\"\n",
    ")\n",
    "create_period_column(\n",
    "    bus_groups_replaceinfo, \"year_2and_rep\", \"month_2and_rep\", \"2and_rep_date\"\n",
    ")\n",
    "create_period_column(\n",
    "    bus_groups_replaceinfo, \"year_data_begins\", \"month_data_begins\", \"data_begins_date\"\n",
    ")\n",
    "\n",
    "bus_groups_replaceinfo"
   ]
  },
  {
   "cell_type": "code",
   "execution_count": null,
   "metadata": {},
   "outputs": [],
   "source": [
    "bus_groups_replaceinfo_summary = (\n",
    "    bus_groups_replaceinfo[[\"group\", \"odometer_1st\"]]\n",
    "    .groupby(\"group\")\n",
    "    .agg([\"max\", \"min\", \"mean\", \"std\"])\n",
    "    .round(0)\n",
    ")\n",
    "bus_groups_replaceinfo_summary"
   ]
  },
  {
   "cell_type": "code",
   "execution_count": null,
   "metadata": {},
   "outputs": [],
   "source": [
    "def calculate_months_diff(date1: pd.Series, date2: pd.Series) -> pd.Series:\n",
    "    result = np.where(\n",
    "        date1.isna() | date2.isna(),\n",
    "        np.nan,\n",
    "        (date2.dt.year - date1.dt.year) * 12 + (date2.dt.month - date1.dt.month) + 1,\n",
    "    )\n",
    "    return pd.Series(result)"
   ]
  },
  {
   "cell_type": "code",
   "execution_count": null,
   "metadata": {},
   "outputs": [],
   "source": [
    "bus_groups_replaceinfo[\"1st_rep_period\"] = calculate_months_diff(\n",
    "    bus_groups_replaceinfo[\"purchase_date\"], bus_groups_replaceinfo[\"1st_rep_date\"]\n",
    ")\n",
    "bus_groups_replaceinfo[\"2and_rep_period\"] = calculate_months_diff(\n",
    "    bus_groups_replaceinfo[\"1st_rep_date\"], bus_groups_replaceinfo[\"2and_rep_date\"]\n",
    ")\n",
    "\n",
    "bus_groups_replace_period = pd.DataFrame()\n",
    "bus_groups_replace_1st_rep_period = (\n",
    "    bus_groups_replaceinfo[[\"group\", \"1st_rep_period\"]]\n",
    "    .rename(columns={\"1st_rep_period\": \"period\"})\n",
    "    .dropna()\n",
    ")\n",
    "bus_groups_replace_2and_rep_period = (\n",
    "    bus_groups_replaceinfo[[\"group\", \"2and_rep_period\"]]\n",
    "    .rename(columns={\"2and_rep_period\": \"period\"})\n",
    "    .dropna()\n",
    ")\n",
    "\n",
    "bus_groups_replace_period = pd.concat(\n",
    "    [bus_groups_replace_1st_rep_period, bus_groups_replace_2and_rep_period], axis=0\n",
    ")\n",
    "bus_groups_replace_period_summary = (\n",
    "    bus_groups_replace_period.groupby(\"group\")\n",
    "    .agg([\"max\", \"min\", \"mean\", \"std\"])\n",
    "    .round(1)\n",
    ")\n",
    "bus_groups_replace_period_summary"
   ]
  },
  {
   "cell_type": "code",
   "execution_count": null,
   "metadata": {},
   "outputs": [],
   "source": [
    "pd.merge(\n",
    "    bus_groups_replaceinfo_summary,\n",
    "    bus_groups_replace_period_summary,\n",
    "    left_index=True,\n",
    "    right_index=True,\n",
    ")"
   ]
  },
  {
   "cell_type": "code",
   "execution_count": null,
   "metadata": {},
   "outputs": [],
   "source": []
  }
 ],
 "metadata": {
  "kernelspec": {
   "display_name": "rust-reprication-ETVudui6-py3.11",
   "language": "python",
   "name": "python3"
  },
  "language_info": {
   "codemirror_mode": {
    "name": "ipython",
    "version": 3
   },
   "file_extension": ".py",
   "mimetype": "text/x-python",
   "name": "python",
   "nbconvert_exporter": "python",
   "pygments_lexer": "ipython3",
   "version": "3.11.3"
  }
 },
 "nbformat": 4,
 "nbformat_minor": 2
}
