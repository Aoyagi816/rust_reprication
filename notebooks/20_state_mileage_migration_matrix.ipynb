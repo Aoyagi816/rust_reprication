{
 "cells": [
  {
   "cell_type": "code",
   "execution_count": null,
   "metadata": {},
   "outputs": [],
   "source": [
    "import numpy as np\n",
    "import pandas as pd"
   ]
  },
  {
   "cell_type": "code",
   "execution_count": null,
   "metadata": {},
   "outputs": [],
   "source": [
    "bus_groups_time_series = pd.read_csv(\"../data/bus_groups_timeseries.csv\", index_col=0)\n",
    "bus_groups_time_series"
   ]
  },
  {
   "cell_type": "code",
   "execution_count": null,
   "metadata": {},
   "outputs": [],
   "source": [
    "# ①5000kmごとにbinの番号をつける。\n",
    "def calculate_bin_or_keep_nan(val):\n",
    "    \"\"\"\n",
    "    valがNaNであれば、NaNを返します。\n",
    "    そうでなければ、valを5000kmごとのビンに分類し、そのビンの番号を返します。\n",
    "    ただし、ビンの番号が21以上の場合は21を返します。\n",
    "    \"\"\"\n",
    "    if pd.isna(val):\n",
    "        return np.nan\n",
    "    else:\n",
    "        bin_number = np.floor(val / 5000).astype(int) + 1\n",
    "        return min(bin_number, 21)\n",
    "\n",
    "\n",
    "numbers = bus_groups_time_series.map(calculate_bin_or_keep_nan)\n",
    "numbers"
   ]
  },
  {
   "cell_type": "code",
   "execution_count": null,
   "metadata": {},
   "outputs": [],
   "source": [
    "# 変化のカウント用の辞書を初期化\n",
    "counts = {\"x1\": 0, \"x2\": 0, \"x3\": 0, \"x4\": 0}\n",
    "\n",
    "# 各列(bus_name)に対してループ\n",
    "for column in numbers.columns:\n",
    "    # a4の条件は特別に扱う（20から21への変化）\n",
    "    counts[\"x4\"] += ((numbers[column].shift(-1) == 21) & (numbers[column] == 20)).sum()\n",
    "    # 21の値を持つ行をNaNに置き換え\n",
    "    modified_column = numbers[column].where(numbers[column] != 21)\n",
    "    diff = modified_column.diff()\n",
    "    # 変化のカウント\n",
    "    counts[\"x1\"] += (diff == 0).sum()\n",
    "    counts[\"x2\"] += (diff == 1).sum()\n",
    "    counts[\"x3\"] += (diff == 2).sum()\n",
    "\n",
    "counts"
   ]
  },
  {
   "cell_type": "code",
   "execution_count": null,
   "metadata": {},
   "outputs": [],
   "source": [
    "# ④kappa1とkappa2を計算する。dfの形で出力する。\n",
    "def kappa1(x1, x2, x3, x4):\n",
    "    return (x2 * (x2 + x3 + x4)) / ((x2 + x3) * (x1 + x2 + x3 + x4))\n",
    "\n",
    "\n",
    "def kappa2(x1, x2, x3, x4):\n",
    "    return (x3 * (x2 + x3 + x4)) / ((x2 + x3) * (x1 + x2 + x3 + x4))\n",
    "\n",
    "\n",
    "kappa1 = kappa1(counts[\"x1\"], counts[\"x2\"], counts[\"x3\"], counts[\"x4\"])\n",
    "kappa2 = kappa2(counts[\"x1\"], counts[\"x2\"], counts[\"x3\"], counts[\"x4\"])\n",
    "\n",
    "kappa1, kappa2"
   ]
  },
  {
   "cell_type": "code",
   "execution_count": null,
   "metadata": {},
   "outputs": [],
   "source": []
  }
 ],
 "metadata": {
  "kernelspec": {
   "display_name": "rust-reprication-ETVudui6-py3.11",
   "language": "python",
   "name": "python3"
  },
  "language_info": {
   "codemirror_mode": {
    "name": "ipython",
    "version": 3
   },
   "file_extension": ".py",
   "mimetype": "text/x-python",
   "name": "python",
   "nbconvert_exporter": "python",
   "pygments_lexer": "ipython3",
   "version": "3.11.3"
  }
 },
 "nbformat": 4,
 "nbformat_minor": 2
}
