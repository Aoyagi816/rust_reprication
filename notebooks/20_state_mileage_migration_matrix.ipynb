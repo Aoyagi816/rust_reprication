{
 "cells": [
  {
   "cell_type": "code",
   "execution_count": null,
   "metadata": {},
   "outputs": [],
   "source": [
    "import numpy as np\n",
    "import pandas as pd"
   ]
  },
  {
   "cell_type": "code",
   "execution_count": null,
   "metadata": {},
   "outputs": [],
   "source": [
    "bus_groups_time_series = pd.read_csv(\"../data/bus_groups_timeseries.csv\", index_col=0)\n",
    "bus_groups_time_series"
   ]
  },
  {
   "cell_type": "code",
   "execution_count": null,
   "metadata": {},
   "outputs": [],
   "source": [
    "# ①5000kmごとにbinの番号をつける。\n",
    "def calculate_bin_or_keep_nan(val):\n",
    "    \"\"\"\n",
    "    valがNaNであれば、NaNを返します。\n",
    "    そうでなければ、valを5000kmごとのビンに分類し、そのビンの番号を返します。\n",
    "    ただし、ビンの番号が21以上の場合は21を返します。\n",
    "    \"\"\"\n",
    "    if pd.isna(val):\n",
    "        return np.nan\n",
    "    else:\n",
    "        bin_number = np.floor(val / 5000).astype(int) + 1\n",
    "        return min(bin_number, 21)\n",
    "\n",
    "\n",
    "numbers = bus_groups_time_series.map(calculate_bin_or_keep_nan)\n",
    "numbers"
   ]
  },
  {
   "cell_type": "code",
   "execution_count": null,
   "metadata": {},
   "outputs": [],
   "source": [
    "# ②a_iを求める（＝diffを取る）\n",
    "diffs = numbers.diff(axis=0)\n",
    "diffs"
   ]
  },
  {
   "cell_type": "code",
   "execution_count": null,
   "metadata": {},
   "outputs": [],
   "source": [
    "# ③x1-x4を求める：最後の行がx4なので特別処理。残りはcountすれば良い。\n",
    "last_row = diffs.iloc[-1]\n",
    "diffs = diffs.iloc[:-1]\n",
    "\n",
    "value_counts_per_column = diffs.apply(pd.Series.value_counts, axis=0)\n",
    "value_counts_per_column.loc[\"last_row\"] = last_row\n",
    "value_counts_per_column = value_counts_per_column.rename(\n",
    "    index={0: \"x1\", 1: \"x2\", 2: \"x3\", \"last_row\": \"x4\"}\n",
    ")\n",
    "value_counts_per_column.fillna(0, inplace=True)\n",
    "sums = value_counts_per_column.sum(axis=1)\n",
    "sums"
   ]
  },
  {
   "cell_type": "code",
   "execution_count": null,
   "metadata": {},
   "outputs": [],
   "source": [
    "# ④kappa1とkappa2を計算する。dfの形で出力する。\n",
    "def kappa1(x1, x2, x3, x4):\n",
    "    return x2 * (x2 + x3 + x4) / (x2 + x3) * (x1 + x2 + x3 + x4)\n",
    "\n",
    "\n",
    "def kappa2(x1, x2, x3, x4):\n",
    "    return x3 * (x2 + x3 + x4) / (x2 + x3) * (x1 + x2 + x3 + x4)\n",
    "\n",
    "\n",
    "kappa1 = kappa1(sums[\"x1\"], sums[\"x2\"], sums[\"x3\"], sums[\"x4\"])\n",
    "kappa2 = kappa2(sums[\"x1\"], sums[\"x2\"], sums[\"x3\"], sums[\"x4\"])\n",
    "\n",
    "kappa1, kappa2"
   ]
  }
 ],
 "metadata": {
  "kernelspec": {
   "display_name": "rust-reprication-ETVudui6-py3.11",
   "language": "python",
   "name": "python3"
  },
  "language_info": {
   "codemirror_mode": {
    "name": "ipython",
    "version": 3
   },
   "file_extension": ".py",
   "mimetype": "text/x-python",
   "name": "python",
   "nbconvert_exporter": "python",
   "pygments_lexer": "ipython3",
   "version": "3.11.3"
  }
 },
 "nbformat": 4,
 "nbformat_minor": 2
}
